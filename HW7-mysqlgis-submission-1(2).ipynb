{
 "cells": [
  {
   "cell_type": "markdown",
   "metadata": {
    "tags": []
   },
   "source": [
    "# Problem Set #7 - PostGIS\n",
    "<figure width=100%>\n",
    "  <IMG SRC=\"https://www.colorado.edu/cs/profiles/express/themes/cuspirit/logo.png\" WIDTH=50 ALIGN=\"right\">\n",
    "</figure>\n",
    "    \n",
    "## CSCI 3287 \n",
    "<hr>"
   ]
  },
  {
   "cell_type": "code",
   "execution_count": 1,
   "metadata": {},
   "outputs": [],
   "source": [
    "%load_ext sql\n",
    "%matplotlib inline"
   ]
  },
  {
   "cell_type": "code",
   "execution_count": 2,
   "metadata": {},
   "outputs": [],
   "source": [
    "import matplotlib.pyplot as plt\n",
    "import zipfile\n",
    "import os\n",
    "import configparser\n",
    "import pandas as pd\n",
    "import geopandas\n",
    "from sqlalchemy import create_engine\n",
    "import sqlalchemy.sql\n",
    "from shapely.geometry import Point, Polygon\n",
    "import ipywidgets as widgets"
   ]
  },
  {
   "cell_type": "markdown",
   "metadata": {},
   "source": [
    "# Problem Set\n",
    "\n",
    "In this problem set, you're going to help me realize one of my life goals - being able to gaze admiringly on the graceful motions of a windmill while having a cool beer all the while being near my car. Odd though this goal is, the only place I've found it possible to satisfy my odd desire is at the Rocky Flats Lounge in Colorado (since defunct) and now at the [Moulin Rouge](https://www.dreamstime.com/moulin-rouge-montmartre-paris-france-image126434467):\n",
    "\n",
    "<img src=\"https://thumbs.dreamstime.com/b/moulin-rouge-montmartre-paris-france-126434467.jpg\" alt=\"Moulin Rouge\" style=\"width: 200px;\"/>\n",
    "\n",
    "Your job is to find where I can live the dream in Colorado. You'll be provided with the following datasets:\n",
    "* [A shapefile of the state boundaries from the US Census Bureau](https://www.census.gov/geo/maps-data/data/cbf/cbf_state.html)\n",
    "* [A shapefile of major roadways in the US from the US Census Bureau / TIGER data sources](https://catalog.data.gov/dataset?tags=roads)\n",
    "* [A map of Wind Turbines in the US from the USGS](https://cmerwebmap.cr.usgs.gov/catalog/item/57bdfd8fe4b03fd6b7df5ff9) - note that this data is provided in GeoJSON format.\n",
    "* [A collection of the location of bars in the US extracted from Open Street View following a guide on mapping out bierhalls in Germany](https://janakiev.com/blog/openstreetmap-with-python-and-overpass-api/)\n",
    "\n",
    "Specifically, you will be asked to:\n",
    "* Create PostGIS database tables using the provided information sources\n",
    "* Build PostGIS SQL queries to answer a series of questions\n",
    "* Culuminating in finding a bar, near a road near a windmill.\n",
    "\n",
    "You'll need to use a PostGIS database and we'll assume you've created one using ElephantSQL"
   ]
  },
  {
   "cell_type": "markdown",
   "metadata": {},
   "source": [
    "## Connect to your database & Create Tables"
   ]
  },
  {
   "cell_type": "markdown",
   "metadata": {},
   "source": [
    "Enter the MySQL username and password you were provided by email at the start of the class."
   ]
  },
  {
   "cell_type": "markdown",
   "metadata": {},
   "source": [
    "Now, evaluate the following cell to create your database connection. We will create both an SQL Alchemey connection (so you can insert items into tables easily) and an SQL magic so you can do queries easily."
   ]
  },
  {
   "cell_type": "code",
   "execution_count": 3,
   "metadata": {},
   "outputs": [],
   "source": [
    "mysqlcfg = configparser.ConfigParser()\n",
    "mysqlcfg.read(\"mysql.cfg\")\n",
    "dburl = mysqlcfg['mysql']['url']\n",
    "\n",
    "os.environ['DATABASE_URL'] = dburl  # define this env. var for sqlmagic\n",
    "eng = create_engine(dburl)\n",
    "con = eng.connect()"
   ]
  },
  {
   "cell_type": "markdown",
   "metadata": {},
   "source": [
    "We'll run a MySQL specific query to determine the version of the software available on that MySQL server."
   ]
  },
  {
   "cell_type": "code",
   "execution_count": 4,
   "metadata": {},
   "outputs": [
    {
     "name": "stdout",
     "output_type": "stream",
     "text": [
      "1 rows affected.\n"
     ]
    },
    {
     "data": {
      "text/html": [
       "<table>\n",
       "    <thead>\n",
       "        <tr>\n",
       "            <th>version()</th>\n",
       "        </tr>\n",
       "    </thead>\n",
       "    <tbody>\n",
       "        <tr>\n",
       "            <td>8.0.27</td>\n",
       "        </tr>\n",
       "    </tbody>\n",
       "</table>"
      ],
      "text/plain": [
       "[('8.0.27',)]"
      ]
     },
     "execution_count": 4,
     "metadata": {},
     "output_type": "execute_result"
    }
   ],
   "source": [
    "%sql SELECT version()"
   ]
  },
  {
   "cell_type": "markdown",
   "metadata": {},
   "source": [
    "We're using MySQL for our GIS queries; although GIS datatypes are common in many different databases, it's a recent addition to many databases. In particular, we need to use MySQL Version 8 or above. Let's check the version of MySQL we're connected to:"
   ]
  },
  {
   "cell_type": "markdown",
   "metadata": {},
   "source": [
    "MySql Version 8 supports different spatial reference systems (SRID's). All of our geometry data is going to use [SRID 4326 which is a standard projection from lattitude-longitude to an ellipsoid that is a reasonable approximation of the earth](https://dev.mysql.com/doc/refman/8.0/en/spatial-type-overview.html). Let's check if this SRID is supported. The output of this query should look like\n",
    "```\n",
    "[('WGS 84', 4326, 'EPSG', 4326, 'GEOGCS[\"WGS 84\",DATUM[\"World Geodetic System 1984\",SPHEROID[\"WGS 84\",6378137,298.257223563,AUTHORITY[\"EPSG\",\"7030\"]],AUTHORITY[\"EPSG\",\"6326\"]],PRIMEM ... (13 characters truncated) ... 0,AUTHORITY[\"EPSG\",\"8901\"]],UNIT[\"degree\",0.017453292519943278,AUTHORITY[\"EPSG\",\"9122\"]],AXIS[\"Lat\",NORTH],AXIS[\"Lon\",EAST],AUTHORITY[\"EPSG\",\"4326\"]]', None)]\n",
    "```"
   ]
  },
  {
   "cell_type": "markdown",
   "metadata": {},
   "source": [
    "## Load our datasets"
   ]
  },
  {
   "cell_type": "code",
   "execution_count": 6,
   "metadata": {},
   "outputs": [],
   "source": [
    "states = geopandas.read_file(\"zip://./cb_2017_us_state_5m.zip\")\n",
    "windmills = geopandas.read_file('uswtdb_v1_3_20190107.geojson')\n",
    "roads = geopandas.read_file('zip://./tl_2018_us_primaryroads.zip')"
   ]
  },
  {
   "cell_type": "markdown",
   "metadata": {},
   "source": [
    "Now to the collect the info on bars. This data comes from the OpenStreetMaps project and I used the following query in their Overpass API by [adapting a similar query concerning Biergartens in Germany](https://janakiev.com/blog/openstreetmap-with-python-and-overpass-api/).\n",
    "```\n",
    "import requests\n",
    "import json\n",
    "\n",
    "overpass_url = \"http://overpass-api.de/api/interpreter\"\n",
    "overpass_query = \"\"\"\n",
    "[out:json];\n",
    "area[\"ISO3166-1\"=\"US\"][admin_level=2];\n",
    "(node[\"amenity\"=\"bar\"](area);\n",
    " way[\"amenity\"=\"bar\"](area);\n",
    " rel[\"amenity\"=\"bar\"](area);\n",
    ");\n",
    "out center;\n",
    "\"\"\"\n",
    "response = requests.get(overpass_url, \n",
    "                        params={'data': overpass_query})\n",
    "data = response.json()\n",
    "```\n",
    "\n",
    "This returns a JSON file (provided to you in `bars.json` where bars['elements'] contains information about the ~11,365 bars recorded by OpenStreetMap in the US. In order to treat this data like the windmills and roads, I will construct a GeoPandas GeoDataFrame for you."
   ]
  },
  {
   "cell_type": "code",
   "execution_count": 7,
   "metadata": {},
   "outputs": [],
   "source": [
    "from shapely.geometry import Point, Polygon, LineString\n",
    "import json\n",
    "\n",
    "with open('bars.json') as infile:  \n",
    "    rawbar = json.load(infile)\n",
    "\n",
    "def getBarName(element):\n",
    "    if 'name' in element['tags']:\n",
    "        return element['tags']['name']\n",
    "    else:\n",
    "        return 'Unnamed Bar'\n",
    "barNames = [getBarName(x) for x in rawbar['elements']]\n",
    "barLat = [x['lat'] for x in rawbar['elements']]\n",
    "barLon = [x['lon'] for x in rawbar['elements']]\n",
    "\n",
    "barPoints = [Point(x['lon'], x['lat']) for x in rawbar['elements']]\n",
    "\n",
    "bars = geopandas.GeoDataFrame({'name' : barNames, 'lat' : barLat, 'lon' : barLon}, geometry=barPoints )"
   ]
  },
  {
   "cell_type": "markdown",
   "metadata": {},
   "source": [
    "We'll just visually inspect the databases by plotting the data. Red is windmills, green is bars and there are roads. If you comment out the `ax.set` line, you can see the full database but it includes roads, bars and windmills in Alaska and Guam, so it's hard to see detail."
   ]
  },
  {
   "cell_type": "code",
   "execution_count": 8,
   "metadata": {},
   "outputs": [
    {
     "data": {
      "text/plain": [
       "[(-120.0, -90.0), (30.0, 45.0)]"
      ]
     },
     "execution_count": 8,
     "metadata": {},
     "output_type": "execute_result"
    },
    {
     "data": {
      "image/png": "[encoded data removed]",
      "text/plain": [
       "<Figure size 720x1440 with 1 Axes>"
      ]
     },
     "metadata": {
      "needs_background": "light"
     },
     "output_type": "display_data"
    }
   ],
   "source": [
    "ax = states.plot(color='None', edgecolor='k', figsize=(10,20))\n",
    "roads.plot(ax = ax, color='black')\n",
    "windmills.plot(ax = ax, color='red')\n",
    "bars.plot(ax=ax, color='green')\n",
    "ax.set(xlim=(-120,-90), ylim=(30,45))"
   ]
  },
  {
   "cell_type": "markdown",
   "metadata": {},
   "source": [
    "### Reducing our dataset size\n",
    "\n",
    "It turns out this is more data than our free database service can handle, so we're going to subset the data to just that available in some western states including Colorado. We could do this by extracting the `geometry` of those states from the `States` table, and then selecting only those bars, windmills and roads that intersect that geometry. However, we're going to define a polygon that captures all of Colorado and just enough of Wyoming, "
   ]
  },
  {
   "cell_type": "code",
   "execution_count": 9,
   "metadata": {},
   "outputs": [],
   "source": [
    "## If we wanted to use specific states, you can uncommon this code,\n",
    "## but the single polygon below captures enough to be useful\n",
    "\n",
    "#westGeometry = states[ states.NAME=='Colorado' ].geometry.iloc[0]\n",
    "#westGeometry = westGeometry.union( states[ states.NAME=='Wyoming' ].geometry.iloc[0])\n",
    "#westGeometry = westGeometry.union( states[ states.NAME=='New Mexico' ].geometry.iloc[0])\n",
    "\n",
    "westGeometry = Polygon( [(-110, 42), (-102,42), (-105,35), (-110,35)] )"
   ]
  },
  {
   "cell_type": "code",
   "execution_count": 10,
   "metadata": {},
   "outputs": [
    {
     "name": "stdout",
     "output_type": "stream",
     "text": [
      "There are 452 roads, 2356 windmills and 383 bars\n"
     ]
    }
   ],
   "source": [
    "westRoads = roads[ roads.geometry.intersects( westGeometry) ]\n",
    "westWindmills = windmills[ windmills.geometry.intersects( westGeometry )]\n",
    "westBars = bars[ bars.geometry.intersects( westGeometry )]\n",
    "print(f\"There are {len(westRoads)} roads, {len(westWindmills)} windmills and {len(westBars)} bars\")"
   ]
  },
  {
   "cell_type": "markdown",
   "metadata": {},
   "source": [
    "You'll see that this is much smaller but that some of the roads \"stick out\" into neighboring states:"
   ]
  },
  {
   "cell_type": "code",
   "execution_count": 11,
   "metadata": {},
   "outputs": [
    {
     "data": {
      "text/plain": [
       "[(-120.0, -90.0), (30.0, 45.0)]"
      ]
     },
     "execution_count": 11,
     "metadata": {},
     "output_type": "execute_result"
    },
    {
     "data": {
      "image/png": "[encoded data removed]",
      "text/plain": [
       "<Figure size 720x1440 with 1 Axes>"
      ]
     },
     "metadata": {
      "needs_background": "light"
     },
     "output_type": "display_data"
    }
   ],
   "source": [
    "ax = states.plot(color='None', edgecolor='k', figsize=(10,20))\n",
    "westRoads.plot(ax = ax, color='black')\n",
    "westWindmills.plot(ax = ax, color='red')\n",
    "westBars.plot(ax=ax, color='green')\n",
    "ax.set(xlim=(-120,-90), ylim=(30,45))"
   ]
  },
  {
   "cell_type": "markdown",
   "metadata": {},
   "source": [
    "## Create Tables"
   ]
  },
  {
   "cell_type": "markdown",
   "metadata": {},
   "source": [
    "### Check before recreating your data!\n",
    "\n",
    "It can take a few minutes to load all the data into the database, and you probably want to avoid repeating that over and over.\n",
    "\n",
    "So, in the following code"
   ]
  },
  {
   "cell_type": "code",
   "execution_count": 12,
   "metadata": {},
   "outputs": [
    {
     "name": "stdout",
     "output_type": "stream",
     "text": [
      "Looks like you're missing one or more tables\n"
     ]
    }
   ],
   "source": [
    "try:\n",
    "    roadsInDb = con.execute('SELECT count(*) from roads;').fetchall()\n",
    "    print(f\"You currently have {roadsInDb} roads defined of {len(westRoads)} possible\")\n",
    "    \n",
    "    statesInDb = con.execute('SELECT count(*) from states;').fetchall()\n",
    "    print(f\"You currently have {statesInDb} states defined of {len(states)} possible\")\n",
    "   \n",
    "    windmillsInDb = con.execute('SELECT count(*) from windmills;').fetchall()\n",
    "    print(f\"You currently have {windmillsInDb} windmills defined of {len(westWindmills)} possible\")\n",
    "    \n",
    "    barsInDb = con.execute('SELECT count(*) from bars;').fetchall()\n",
    "    print(f\"You currently have {barsInDb} bars defined of {len(westBars)} possible\")\n",
    "    \n",
    "except:\n",
    "    print(\"Looks like you're missing one or more tables\")"
   ]
  },
  {
   "cell_type": "markdown",
   "metadata": {},
   "source": [
    "### Create and populate your `roads` table [ 5 pts ]\n",
    "\n",
    "You should define the name of the road and the location (geography) and populate it using the subset of roads, `bigroads`. Note that road names may not been unique (check the data). You should structure this as one cell to create the table and another cell to populate the table. Because it takes a while to populate the table, you'll want to be able to selectively execute these statements.\n",
    "\n",
    "Again, in [MySQL you'll need to specify the SRID (spatial reference) for the geometry column when you create the table](https://dev.mysql.com/doc/refman/8.0/en/spatial-type-overview.html). Additionally, if you want to create a SPATIAL INDEX for your geometry (you do!) you'll need to make certain your geometry items are NOT NULL.\n",
    "\n",
    "It took ~ 5 seconds for me to upload the roads to my database."
   ]
  },
  {
   "cell_type": "code",
   "execution_count": null,
   "metadata": {},
   "outputs": [],
   "source": [
    "%%time\n",
    "%%sql\n",
    "DROP TABLE IF EXISTS roads;\n",
    "CREATE TABLE roads\n",
    "\t(\n",
    "\t  id serial NOT NULL,                 -- the key\n",
    "\t  name character varying(50),         -- road name\n",
    "\t  geom GEOMETRY NOT NULL SRID 4326    -- road geometry\n",
    "\t)"
   ]
  },
  {
   "cell_type": "code",
   "execution_count": 14,
   "metadata": {},
   "outputs": [
    {
     "data": {
      "text/plain": [
       "{'LINEARID': '1108296281341',\n",
       " 'FULLNAME': 'State Hwy 58',\n",
       " 'RTTYP': 'S',\n",
       " 'MTFCC': 'S1100',\n",
       " 'geometry': <shapely.geometry.linestring.LineString at 0x7feebd980640>}"
      ]
     },
     "execution_count": 14,
     "metadata": {},
     "output_type": "execute_result"
    }
   ],
   "source": [
    "roads_dict = westRoads.to_dict('records')\n",
    "roads_dict[0]"
   ]
  },
  {
   "cell_type": "code",
   "execution_count": 15,
   "metadata": {},
   "outputs": [
    {
     "name": "stdout",
     "output_type": "stream",
     "text": [
      "CPU times: user 271 ms, sys: 56.4 ms, total: 328 ms\n",
      "Wall time: 3.96 s\n"
     ]
    }
   ],
   "source": [
    "%%time\n",
    "for row in roads_dict:\n",
    "    row[\"wkt\"] = row[\"geometry\"].wkt\n",
    "    cmd = sqlalchemy.sql.text('''INSERT INTO roads(id, name, geom)\n",
    "    VALUES (:LINEARID, :FULLNAME, ST_SRID(ST_GeomFromText(:wkt), 4326))''')\n",
    "    con.execute(cmd, row)"
   ]
  },
  {
   "cell_type": "markdown",
   "metadata": {},
   "source": [
    "### Create and populate your `states` table [ 5 pts ]\n",
    "\n",
    "You should define the name of the state and the location (geography).\n",
    "It took me ~8s to create this table."
   ]
  },
  {
   "cell_type": "code",
   "execution_count": null,
   "metadata": {},
   "outputs": [],
   "source": [
    "%%time\n",
    "%%sql\n",
    "DROP TABLE IF EXISTS states;\n",
    "CREATE TABLE states\n",
    "\t(\n",
    "      id serial NOT NULL,\n",
    "\t  name character varying(50),\n",
    "\t  geom geometry NOT NULL SRID 4326\n",
    "\t);"
   ]
  },
  {
   "cell_type": "code",
   "execution_count": 17,
   "metadata": {},
   "outputs": [
    {
     "data": {
      "text/plain": [
       "{'STATEFP': '01',\n",
       " 'STATENS': '01779775',\n",
       " 'AFFGEOID': '0400000US01',\n",
       " 'GEOID': '01',\n",
       " 'STUSPS': 'AL',\n",
       " 'NAME': 'Alabama',\n",
       " 'LSAD': '00',\n",
       " 'ALAND': 131174431216,\n",
       " 'AWATER': 4592944701,\n",
       " 'geometry': <shapely.geometry.multipolygon.MultiPolygon at 0x7feebd94d730>}"
      ]
     },
     "execution_count": 17,
     "metadata": {},
     "output_type": "execute_result"
    }
   ],
   "source": [
    "states_dict = states.to_dict('records')\n",
    "states_dict[0]"
   ]
  },
  {
   "cell_type": "code",
   "execution_count": 18,
   "metadata": {},
   "outputs": [
    {
     "name": "stdout",
     "output_type": "stream",
     "text": [
      "CPU times: user 75 ms, sys: 23.1 ms, total: 98 ms\n",
      "Wall time: 925 ms\n"
     ]
    }
   ],
   "source": [
    "%%time\n",
    "for row in states_dict:\n",
    "    row[\"wkt\"] = row[\"geometry\"].wkt\n",
    "    cmd = sqlalchemy.sql.text('''INSERT INTO states(id, name, geom)\n",
    "    VALUES (:GEOID, :NAME, ST_SRID(ST_GeomFromText(:wkt), 4326))''')\n",
    "    con.execute(cmd, row)"
   ]
  },
  {
   "cell_type": "markdown",
   "metadata": {},
   "source": [
    "# Create and populate your `windmills` table [ 5 pts ]\n",
    "\n",
    "You just need to define the location (geography) of the windmill. You should define a `case_id` field so you can tell the windmills apart and define a `GEOGRAPHY` for the location of the windmill.\n",
    "\n",
    "It took me ~20 seconds to create this table."
   ]
  },
  {
   "cell_type": "code",
   "execution_count": null,
   "metadata": {},
   "outputs": [],
   "source": [
    "%%time\n",
    "%%sql\n",
    "DROP TABLE IF EXISTS windmills;\n",
    "CREATE TABLE windmills\n",
    "\t(\n",
    "     id serial NOT NULL,\n",
    "     state character varying(50),\n",
    "\t geom geometry NOT NULL SRID 4326\n",
    "    )"
   ]
  },
  {
   "cell_type": "code",
   "execution_count": 20,
   "metadata": {},
   "outputs": [
    {
     "data": {
      "text/plain": [
       "{'case_id': 3023379,\n",
       " 't_state': 'WY',\n",
       " 'p_name': 'Air Force (Laramie)',\n",
       " 'p_year': 2009,\n",
       " 'p_tnum': 1,\n",
       " 'p_cap': 2.0,\n",
       " 't_manu': 'Gamesa',\n",
       " 't_model': 'G87-2.0',\n",
       " 't_cap': 2000,\n",
       " 't_hh': 78,\n",
       " 't_rd': 87,\n",
       " 't_rsa': 5945,\n",
       " 't_ttlh': 122,\n",
       " 't_conf_atr': 3,\n",
       " 't_conf_loc': 3,\n",
       " 'xlong': -104.884689,\n",
       " 'ylat': 41.178291,\n",
       " 'geometry': <shapely.geometry.point.Point at 0x7feebd969160>}"
      ]
     },
     "execution_count": 20,
     "metadata": {},
     "output_type": "execute_result"
    }
   ],
   "source": [
    "windmills_dict = westWindmills.to_dict('records')\n",
    "windmills_dict[0]"
   ]
  },
  {
   "cell_type": "code",
   "execution_count": 21,
   "metadata": {},
   "outputs": [
    {
     "name": "stdout",
     "output_type": "stream",
     "text": [
      "CPU times: user 931 ms, sys: 228 ms, total: 1.16 s\n",
      "Wall time: 16.4 s\n"
     ]
    }
   ],
   "source": [
    "%%time\n",
    "for row in windmills_dict:\n",
    "    row[\"wkt\"] = row[\"geometry\"].wkt\n",
    "    cmd = sqlalchemy.sql.text('''INSERT INTO windmills(id, state, geom)\n",
    "    VALUES (:case_id, :t_state, ST_SRID(ST_GeomFromText(:wkt), 4326))''')\n",
    "    con.execute(cmd, row)"
   ]
  },
  {
   "cell_type": "markdown",
   "metadata": {},
   "source": [
    "### Create and populate your `bars` table [ 5 pts ]\n",
    "\n",
    "You  need to define the name, lat, lon and location (geography) of the bars.\n",
    "It took me ~3 seconds to create this table. Note that some of the bars have the same name as other bars (*i.e.* they are not unique)"
   ]
  },
  {
   "cell_type": "code",
   "execution_count": null,
   "metadata": {},
   "outputs": [],
   "source": [
    "%%time\n",
    "%%sql\n",
    "DROP TABLE IF EXISTS bars;\n",
    "CREATE TABLE bars\n",
    "\t(\n",
    "      id serial NOT NULL,\n",
    "      name varchar(200),\n",
    "      lat real,\n",
    "      lon real,\n",
    "\t  geom geometry NOT NULL SRID 4326\n",
    "\t);"
   ]
  },
  {
   "cell_type": "code",
   "execution_count": 23,
   "metadata": {},
   "outputs": [
    {
     "data": {
      "text/plain": [
       "{'name': \"Abe's Cantina Y Cocina\",\n",
       " 'lat': 36.51615,\n",
       " 'lon': -105.569684,\n",
       " 'geometry': <shapely.geometry.point.Point at 0x7feebd783c40>}"
      ]
     },
     "execution_count": 23,
     "metadata": {},
     "output_type": "execute_result"
    }
   ],
   "source": [
    "bars_dict = westBars.to_dict('records')\n",
    "bars_dict[0]"
   ]
  },
  {
   "cell_type": "code",
   "execution_count": 24,
   "metadata": {},
   "outputs": [
    {
     "name": "stdout",
     "output_type": "stream",
     "text": [
      "CPU times: user 141 ms, sys: 51.6 ms, total: 193 ms\n",
      "Wall time: 2.69 s\n"
     ]
    }
   ],
   "source": [
    "%%time\n",
    "for row in bars_dict:\n",
    "    row[\"wkt\"] = row[\"geometry\"].wkt\n",
    "    cmd = sqlalchemy.sql.text('''INSERT INTO bars(name, lat, lon, geom)\n",
    "    VALUES (:name, :lat, :lon, ST_SRID(ST_GeomFromText(:wkt), 4326))''')\n",
    "    con.execute(cmd, row)"
   ]
  },
  {
   "cell_type": "code",
   "execution_count": 25,
   "metadata": {},
   "outputs": [
    {
     "name": "stdout",
     "output_type": "stream",
     "text": [
      "CPU times: user 0 ns, sys: 2.3 ms, total: 2.3 ms\n",
      "Wall time: 1.59 ms\n"
     ]
    },
    {
     "data": {
      "text/plain": [
       "[(1, \"Abe's Cantina Y Cocina\", 36.51615, -105.569684, b'\\xe6\\x10\\x00\\x00\\x01\\x01\\x00\\x00\\x00|C\\xe1\\xb3udZ\\xc0K\\xea\\x044\\x11BB@'),\n",
       " (2, 'San Juan Inn bar', 37.1512691, -109.8676677, b'\\xe6\\x10\\x00\\x00\\x01\\x01\\x00\\x00\\x00\\xea\\xd2\\x1a\\xde\\x87w[\\xc0\\x9b\\xb2.\\xc9\\\\\\x93B@')]"
      ]
     },
     "execution_count": 25,
     "metadata": {},
     "output_type": "execute_result"
    }
   ],
   "source": [
    "%%time\n",
    "con.execute(\"SELECT * from bars LIMIT 2\").fetchall()"
   ]
  },
  {
   "cell_type": "markdown",
   "metadata": {},
   "source": [
    "## The Queries\n",
    "\n",
    "From here on out, you will use the data in the PostGIS database to answer the following questions.\n",
    "\n",
    "### Query #1: Find the distance from a bar to a windmill [ 10 pts ]\n",
    "\n",
    "Print the name of bars and the ID of windmills and the distance (in meters) between the bar and the windmill ordered by distance in meters in ascending. You should only print the first 10 entries.\n",
    "It should start with\n",
    "```\n",
    "[('Brick House Tavern', 3010715, 2305.382007921522),\n",
    " ('Danielmark Brewing Co.', 3015904, 6997.981979809609),\n",
    " ('Danielmark Brewing Co.', 3015903, 7358.494370694143),\n",
    "```"
   ]
  },
  {
   "cell_type": "code",
   "execution_count": 26,
   "metadata": {},
   "outputs": [
    {
     "name": "stdout",
     "output_type": "stream",
     "text": [
      "CPU times: user 0 ns, sys: 2.83 ms, total: 2.83 ms\n",
      "Wall time: 5.37 s\n"
     ]
    },
    {
     "data": {
      "text/plain": [
       "[('Brick House Tavern', 3010715, 2305.382007921522),\n",
       " ('Danielmark Brewing Co.', 3015904, 6997.981979809609),\n",
       " ('Danielmark Brewing Co.', 3015903, 7358.494370694143),\n",
       " ('Scooters Sports Bar & Grill', 3010715, 7385.157712395511),\n",
       " ('Club On Tooy', 3010715, 7606.060781803398),\n",
       " ('Danielmark Brewing Co.', 3023379, 7628.366991855823),\n",
       " ('Miles Sports Pub & Grub', 3072850, 7756.251637127678),\n",
       " ('Oasis Bar & Grill', 3010715, 7970.188408345206),\n",
       " ('Miles Sports Pub & Grub', 3002673, 8166.880986145608),\n",
       " ('Miles Sports Pub & Grub', 3004706, 8302.296662980689)]"
      ]
     },
     "execution_count": 26,
     "metadata": {},
     "output_type": "execute_result"
    }
   ],
   "source": [
    "%%time\n",
    "con.execute('''\n",
    "SELECT bars.name as bar, windmills.id, ST_Distance(bars.geom, windmills.geom) as dist\n",
    "FROM bars, windmills\n",
    "ORDER BY dist\n",
    "LIMIT 10; \n",
    "''').fetchall()"
   ]
  },
  {
   "cell_type": "markdown",
   "metadata": {},
   "source": [
    "### Query #2: Find the distance to the *nearest* windmill from each bar [ 10 pts ]\n",
    "\n",
    "For each bar, determine the distance to the nearest windmill.\n",
    "You should print the bar name and the distance to the closest windmill.\n",
    "You should only print the first 10 entries.\n",
    "It should start with\n",
    "```\n",
    "[('Brick House Tavern', 2305.382007921522),\n",
    " ('Danielmark Brewing Co.', 6997.981979809609),\n",
    "```"
   ]
  },
  {
   "cell_type": "code",
   "execution_count": 27,
   "metadata": {},
   "outputs": [
    {
     "name": "stdout",
     "output_type": "stream",
     "text": [
      "CPU times: user 3.74 ms, sys: 0 ns, total: 3.74 ms\n",
      "Wall time: 5.34 s\n"
     ]
    },
    {
     "data": {
      "text/plain": [
       "[('Brick House Tavern', 2305.382007921522),\n",
       " ('Danielmark Brewing Co.', 6997.981979809609),\n",
       " ('Danielmark Brewing Co.', 7358.494370694143),\n",
       " ('Scooters Sports Bar & Grill', 7385.157712395511),\n",
       " ('Club On Tooy', 7606.060781803398),\n",
       " ('Danielmark Brewing Co.', 7628.366991855823),\n",
       " ('Miles Sports Pub & Grub', 7756.251637127678),\n",
       " ('Oasis Bar & Grill', 7970.188408345206),\n",
       " ('Miles Sports Pub & Grub', 8166.880986145608),\n",
       " ('Miles Sports Pub & Grub', 8302.296662980689)]"
      ]
     },
     "execution_count": 27,
     "metadata": {},
     "output_type": "execute_result"
    }
   ],
   "source": [
    "%%time\n",
    "con.execute('''\n",
    "SELECT bars.name as bar, ST_Distance(bars.geom, windmills.geom) as dist\n",
    "FROM bars, windmills\n",
    "ORDER BY dist\n",
    "LIMIT 10; \n",
    "''').fetchall()"
   ]
  },
  {
   "cell_type": "markdown",
   "metadata": {},
   "source": [
    "### Query #3: Find the distance to the nearest windmill but also tell me what state the bar is in [ 10 pts ]\n",
    "\n",
    "As before, for each bar, determine the distance to the nearest windmill.\n",
    "You should print the bar name, **the state the bar is in**, and the distance to the closest windmill.\n",
    "You should only print the first 10 entries.\n",
    "It should start with\n",
    "```\n",
    "[('Brick House Tavern', 'CO', 2305.382007921522),\n",
    " ('Danielmark Brewing Co.', 'WY', 6997.981979809609),\n",
    "```"
   ]
  },
  {
   "cell_type": "code",
   "execution_count": 28,
   "metadata": {},
   "outputs": [
    {
     "name": "stdout",
     "output_type": "stream",
     "text": [
      "CPU times: user 2.97 ms, sys: 72 µs, total: 3.04 ms\n",
      "Wall time: 5.39 s\n"
     ]
    },
    {
     "data": {
      "text/plain": [
       "[('Brick House Tavern', 'CO', 2305.382007921522),\n",
       " ('Danielmark Brewing Co.', 'WY', 6997.981979809609),\n",
       " ('Danielmark Brewing Co.', 'WY', 7358.494370694143),\n",
       " ('Scooters Sports Bar & Grill', 'CO', 7385.157712395511),\n",
       " ('Club On Tooy', 'CO', 7606.060781803398),\n",
       " ('Danielmark Brewing Co.', 'WY', 7628.366991855823),\n",
       " ('Miles Sports Pub & Grub', 'CO', 7756.251637127678),\n",
       " ('Oasis Bar & Grill', 'CO', 7970.188408345206),\n",
       " ('Miles Sports Pub & Grub', 'CO', 8166.880986145608),\n",
       " ('Miles Sports Pub & Grub', 'CO', 8302.296662980689)]"
      ]
     },
     "execution_count": 28,
     "metadata": {},
     "output_type": "execute_result"
    }
   ],
   "source": [
    "%%time\n",
    "con.execute('''\n",
    "SELECT bars.name as bar, windmills.state as state, ST_Distance(bars.geom, windmills.geom) as dist\n",
    "FROM bars, windmills\n",
    "ORDER BY dist\n",
    "LIMIT 10; \n",
    "''').fetchall()"
   ]
  },
  {
   "cell_type": "markdown",
   "metadata": {
    "tags": []
   },
   "source": [
    "### Query #4: Show me bars in Colorado that are within 10km of a windmill using `ST_Distance` [ 10 pts ]\n",
    "\n",
    "Pretty much like it says -- provide a list of bars that are within 10km of a windmill.\n",
    "Your code **must** use the `ST_Distance` spatial query.\n",
    "\n",
    "Each bar should be listed **once** even if there are two windmills within 10km and only the distance to the closest windmill should be displayed. You should print all entries (there are 10).\n",
    "\n",
    "It should start with\n",
    "```\n",
    "[('Brick House Tavern', 'CO', 2305.382007921522),\n",
    " ('Danielmark Brewing Co.', 'WY', 6997.981979809609),\n",
    "```\n",
    "\n",
    "You should note the [time needed for this query using the `%%time` magic](https://ipython.readthedocs.io/en/stable/interactive/magics.html). You will need this time for a later questions where you compare the execution time for this same query with and without an index."
   ]
  },
  {
   "cell_type": "code",
   "execution_count": 29,
   "metadata": {},
   "outputs": [
    {
     "name": "stdout",
     "output_type": "stream",
     "text": [
      "CPU times: user 0 ns, sys: 3.82 ms, total: 3.82 ms\n",
      "Wall time: 11.4 s\n"
     ]
    },
    {
     "data": {
      "text/plain": [
       "[('Brick House Tavern', 'CO', 2305.382007921522),\n",
       " ('Danielmark Brewing Co.', 'WY', 6997.981979809609),\n",
       " ('Danielmark Brewing Co.', 'WY', 7358.494370694143),\n",
       " ('Scooters Sports Bar & Grill', 'CO', 7385.157712395511),\n",
       " ('Club On Tooy', 'CO', 7606.060781803398),\n",
       " ('Danielmark Brewing Co.', 'WY', 7628.366991855823),\n",
       " ('Miles Sports Pub & Grub', 'CO', 7756.251637127678),\n",
       " ('Oasis Bar & Grill', 'CO', 7970.188408345206),\n",
       " ('Miles Sports Pub & Grub', 'CO', 8166.880986145608),\n",
       " ('Miles Sports Pub & Grub', 'CO', 8302.296662980689)]"
      ]
     },
     "execution_count": 29,
     "metadata": {},
     "output_type": "execute_result"
    }
   ],
   "source": [
    "%%time\n",
    "con.execute('''\n",
    "SELECT DISTINCT (bars.name), windmills.state as state, ST_Distance(bars.geom, windmills.geom) as dist\n",
    "FROM bars, windmills\n",
    "WHERE ST_Within(bars.geom, windmills.geom) <= 10000\n",
    "ORDER BY dist\n",
    "LIMIT 10; \n",
    "''').fetchall()"
   ]
  },
  {
   "cell_type": "markdown",
   "metadata": {},
   "source": [
    "### Query #5: Show me bars in Colorado that are within 10km of a windmill using `ST_Buffer` [ 10 pts ]\n",
    "\n",
    "This is the same as the previous query but this time, you must use the `ST_Buffer` method where you \"grow\" the size of the windmill by 10km and then check for an intersection with the bars.\n",
    "\n",
    "Each bar should be listed **once** even if there are two windmills within 10km and you should report the **closest** bar.\n",
    "You should only print the first 10 entries.\n",
    "It should start with\n",
    "```\n",
    "[('Brick House Tavern', 'CO', 2305.382007921522),\n",
    " ('Danielmark Brewing Co.', 'WY', 6997.981979809609),\n",
    "```\n",
    "\n",
    "Again, you should note the time needed for this query using the %%time magic. You will need this time for a later questions where you compare the execution time for this same query with and without an index.\n",
    "\n",
    "My query took more than 4 minutes."
   ]
  },
  {
   "cell_type": "code",
   "execution_count": null,
   "metadata": {},
   "outputs": [],
   "source": [
    "%%time\n",
    "con.execute('''\n",
    "SELECT DISTINCT (bars.name), windmills.state as state, ST_Distance(bars.geom, windmills.geom) as dist\n",
    "FROM bars, windmills\n",
    "WHERE ST_Intersects(ST_Buffer(windmills.geom, 10000), bars.geom) <= 10000\n",
    "ORDER BY dist\n",
    "LIMIT 10; \n",
    "''').fetchall()"
   ]
  },
  {
   "cell_type": "markdown",
   "metadata": {},
   "source": [
    "### Query #6: Measure the impact of Geospatial Indexes [ 10 pts ]\n",
    "\n",
    "Queries #4 and #5 measured the time to find the distance from each bar\n",
    "to the nearest windmill that is less than 10km away using two different\n",
    "methods. You should have found that one method is much faster than the\n",
    "other using the \"Wall time\" output of the `%%time` magic.\n",
    "\n",
    "You are now going to [create an index for the geometries of the bars and windmills.](http://postgis.net/workshops/postgis-intro/indexing.html) and then measure the execution time of the queries. You should fill in the table in the markdown box below. You should probably structure your index creation in two parts -- in the first, you should `DROP INDEX IF..` to allow you to remove the index if needed and follow that by code that `CREATE INDEX ... ON` to create the specific indexes.\n",
    "\n",
    "Once you've created your indexes, you should rerun queries #4 and #5 and fill in the query times for with/with-out indexes in the table below. You will then be asked to explain WHY the queries have different execution times. [It may be useful to use `EXPLAIN SELECT...` to draw your conclsusions](https://thoughtbot.com/blog/reading-an-explain-analyze-query-plan)."
   ]
  },
  {
   "cell_type": "code",
   "execution_count": null,
   "metadata": {},
   "outputs": [],
   "source": [
    "table = 'windmills'\n",
    "try:\n",
    "    con.execute(f\"ALTER TABLE {table} DROP INDEX {table}_gist;\")\n",
    "    print(\"index dropped for\", table+\"_gist\")\n",
    "except:\n",
    "    print(\"index does not exist for *_gist in\", table)\n",
    "    pass\n",
    "try:\n",
    "    con.execute(f\"ALTER TABLE {table} DROP INDEX {table}_name;\")\n",
    "    print(\"index dropped for\", table+\"_name\")\n",
    "except:\n",
    "    print(\"index does not exist for *_name in\", table)\n",
    "    pass"
   ]
  },
  {
   "cell_type": "code",
   "execution_count": null,
   "metadata": {},
   "outputs": [],
   "source": [
    "try:\n",
    "    con.execute(f\"CREATE SPATIAL INDEX {table}_gist ON {table}(geom);\")\n",
    "    print(\"index was created for\", table+\"_gist\")\n",
    "except:\n",
    "    print(\"index was NOT created for\", table+\"_gist\")\n",
    "    pass"
   ]
  },
  {
   "cell_type": "code",
   "execution_count": null,
   "metadata": {},
   "outputs": [],
   "source": [
    "table = 'bars'\n",
    "try:\n",
    "    con.execute(f\"ALTER TABLE {table} DROP INDEX {table}_gist;\")\n",
    "    print(\"index dropped for\", table+\"_gist\")\n",
    "except:\n",
    "    print(\"index does not exist for *_gist in\", table)\n",
    "    pass\n",
    "try:\n",
    "    con.execute(f\"ALTER TABLE {table} DROP INDEX {table}_name;\")\n",
    "    print(\"index dropped for\", table+\"_name\")\n",
    "except:\n",
    "    print(\"index does not exist for *_name in\", table)\n",
    "    pass"
   ]
  },
  {
   "cell_type": "code",
   "execution_count": null,
   "metadata": {},
   "outputs": [],
   "source": [
    "try:\n",
    "    con.execute(f\"CREATE SPATIAL INDEX {table}_gist ON {table}(geom);\")\n",
    "    print(\"index was created for\", table+\"_gist\")\n",
    "except:\n",
    "    print(\"index was NOT created for\", table+\"_gist\")\n",
    "    pass"
   ]
  },
  {
   "cell_type": "code",
   "execution_count": null,
   "metadata": {},
   "outputs": [],
   "source": [
    "%%time\n",
    "con.execute('''\n",
    "SELECT DISTINCT (bars.name), windmills.state as state, ST_Distance(bars.geom, windmills.geom) as dist\n",
    "FROM bars, windmills\n",
    "WHERE ST_Within(bars.geom, windmills.geom) <= 10000\n",
    "ORDER BY dist\n",
    "LIMIT 10; \n",
    "''').fetchall()"
   ]
  },
  {
   "cell_type": "code",
   "execution_count": null,
   "metadata": {},
   "outputs": [],
   "source": [
    "%%time\n",
    "con.execute('''\n",
    "SELECT DISTINCT (bars.name), windmills.state as state, ST_Distance(bars.geom, windmills.geom) as dist\n",
    "FROM bars, windmills\n",
    "WHERE ST_Intersects(ST_Buffer(windmills.geom, 10000), bars.geom) <= 10000\n",
    "ORDER BY dist\n",
    "LIMIT 10; \n",
    "''').fetchall()"
   ]
  },
  {
   "cell_type": "markdown",
   "metadata": {
    "jp-MarkdownHeadingCollapsed": true,
    "tags": []
   },
   "source": [
    "#### Fill in the table and explain why you got these results:\n",
    "\n",
    "<table>\n",
    "    <tr> <th> </th> <th> Using Index? </th> </tr>\n",
    "    <tr> <th> </th> <th> No </th> <th> Yes </th> </tr>\n",
    "    <tr> <th> ST_Distance </th> <td> 4.97 s  </td> <td> 4.28 s <td> </tr>\n",
    "    <tr> <th> ST_Buffer </th> <td>  4min 52s </td> <td> 4min 32s  ms <td> </tr>\n",
    "</table>\n",
    "\n",
    "**Explanation**: The ST_DISTANCE calculation can use a range-check for the state boundaries because of the index.\n",
    "The `ST_Buffer` method doesn't create an index on the expanded / buffered points.\n",
    "\n",
    "For ST_DISTANCE:\n",
    "```\n",
    "[(1, 'PRIMARY', 'st', None, 'ALL', None, None, None, None, 51, 100.0, 'Using temporary; Using filesort'),\n",
    " (1, 'PRIMARY', 'b', None, 'ALL', None, None, None, None, 383, 100.0, 'Using where; Using join buffer (hash join)'),\n",
    " (1, 'PRIMARY', '<derived2>', None, 'ref', '<auto_key0>', '<auto_key0>', '203', 'testgis.b.name', 2356, 100.0, None),\n",
    " (2, 'DERIVED', 'bars', None, 'ALL', None, None, None, None, 383, 100.0, 'Using temporary'),\n",
    " (2, 'DERIVED', 'windmills', None, 'ALL', None, None, None, None, 2356, 100.0, 'Using where; Using join buffer (hash join)')]\n",
    " ```\n",
    " vs:\n",
    " ```\n",
    "[(1, 'PRIMARY', '<derived2>', None, 'ALL', None, None, None, None, 902348, 100.0, 'Using where; Using filesort'),\n",
    " (1, 'PRIMARY', 'b', None, 'ref', 'bars_gist,bars_name', 'bars_name', '203', 'wm.barname', 1, 100.0, None),\n",
    " (1, 'PRIMARY', 'st', None, 'ALL', 'states_gist', None, None, None, 51, 100.0, 'Range checked for each record (index map: 0x1)'),\n",
    " (2, 'DERIVED', 'bars', None, 'ALL', 'bars_name', None, None, None, 383, 100.0, 'Using temporary'),\n",
    " (2, 'DERIVED', 'windmills', None, 'ALL', None, None, None, None, 2356, 100.0, 'Using where; Using join buffer (hash join)')]\n",
    "```\n",
    "    \n",
    "For ST_BUFFER:\n",
    "    \n",
    "```\n",
    "[(1, 'PRIMARY', 'st', None, 'ALL', None, None, None, None, 51, 100.0, 'Using temporary; Using filesort'),\n",
    " (1, 'PRIMARY', 'b', None, 'ALL', None, None, None, None, 383, 100.0, 'Using where; Using join buffer (hash join)'),\n",
    " (1, 'PRIMARY', '<derived2>', None, 'ref', '<auto_key0>', '<auto_key0>', '203', 'testgis.b.name', 2356, 100.0, None),\n",
    " (2, 'DERIVED', 'bars', None, 'ALL', None, None, None, None, 383, 100.0, 'Using temporary'),\n",
    " (2, 'DERIVED', 'windmills', None, 'ALL', None, None, None, None, 2356, 100.0, 'Using where; Using join buffer (hash join)')]\n",
    "```\n",
    "    vs: \n",
    "```\n",
    "    [(1, 'PRIMARY', '<derived2>', None, 'ALL', None, None, None, None, 902348, 100.0, 'Using where; Using filesort'),\n",
    " (1, 'PRIMARY', 'b', None, 'ref', 'bars_gist,bars_name', 'bars_name', '203', 'wm.barname', 1, 100.0, None),\n",
    " (1, 'PRIMARY', 'st', None, 'ALL', 'states_gist', None, None, None, 51, 100.0, 'Range checked for each record (index map: 0x1)'),\n",
    " (2, 'DERIVED', 'bars', None, 'ALL', 'bars_gist,bars_name', None, None, None, 383, 100.0, 'Using temporary'),\n",
    " (2, 'DERIVED', 'windmills', None, 'ALL', None, None, None, None, 2356, 100.0, 'Using where; Using join buffer (hash join)')]\n",
    "```"
   ]
  },
  {
   "cell_type": "markdown",
   "metadata": {},
   "source": [
    "#### Fill in the table and explain why you got these results:\n",
    "\n",
    "<table>\n",
    "    <tr> <th> </th> <th> Using Index? </th> </tr>\n",
    "    <tr> <th> </th> <th> No </th> <th> Yes </th> </tr>\n",
    "    <tr> <th> ST_Distance </th> <td> 4.90 </td> <td> 4.29  <td> </tr>\n",
    "    <tr> <th> ST_Buffer </th> <td> 4min 57s </td> <td> 4min 35s <td> </tr>\n",
    "</table>\n",
    "\n",
    "**Explanation**: "
   ]
  },
  {
   "cell_type": "code",
   "execution_count": null,
   "metadata": {},
   "outputs": [],
   "source": [
    "# Using indexing is faster is because pointers are created to the location \n",
    "# of the data in a database, which makes it easier to retrieve than without an index.\n",
    "# As noted above, ST_Distance is much faster because it uses an index, whereas ST_Buffer \n",
    "# does not, making it considerably slower. Because of speed, indexing is commonly used."
   ]
  },
  {
   "cell_type": "markdown",
   "metadata": {},
   "source": [
    "### Query #7: Find the distance between each bar in Colorado and the nearest road [ 10 pts ]\n",
    "\n",
    "Each bar should be listed **once** with the distance to the nearest road, ordered by the shortest distance in meters between bar and road.\n",
    "You should only print the first 10 entries.\n",
    "It should start with\n",
    "```\n",
    "[('Hideaway Bar & Grill', 'CO', 43.738113028839386),\n",
    " ('Pixie Inn', 'CO', 47.063660097868166),\n",
    "```"
   ]
  },
  {
   "cell_type": "code",
   "execution_count": null,
   "metadata": {},
   "outputs": [],
   "source": [
    "%%time\n",
    "con.execute('''\n",
    "SELECT bars.name as bar, windmills.state as state, ST_Distance(bars.geom, roads.geom) as dist\n",
    "FROM roads, windmills, bars\n",
    "ORDER BY dist\n",
    "LIMIT 10; \n",
    "''').fetchall()"
   ]
  },
  {
   "cell_type": "markdown",
   "metadata": {},
   "source": [
    "### Query #8: Fulfill my life long dream [ 10 pts ]\n",
    "\n",
    "We now seek to find the bar in Colorado that minimizes the sum of the distance between the road and the nearest windmill. However,\n",
    "* the windmill must be within 10km of the bar so that I can see it.\n",
    "* the road must also be within 10km of the bar\n",
    "\n",
    "Remember you need to minimize *the sum* of the the distances. There should be exactly one solution to this query. The actual bar has relocated and a new bar has openned in its place, so if you look up the lat/lon on the map, you'll find a restaurant but not one with the same name.\n",
    "\n",
    "A silly solution to the distance constraint it to compute a full join of the `bars`, `roads` and `windmills` tables and then search that for the minimum value -- but that full join would have millions's of entries. While we might hope that the MySQL query optimizer could make quick work of this, ignoring ways to simplify the problem will result in very long running queries (10+ minutes) which will time out.  It's useful to think about how to reduce the total number of bars you need to consider using the constraints above. It is very likely [you'll need to make use of `with` clauses](https://dev.mysql.com/doc/refman/8.0/en/with.html). With a little work, you should get a solution that takes returns within 2 minutes.\n",
    "\n",
    "You should print out the bar name, the lat, lon, windmill identifier, the name of the closest road and the sum of the distance to the road and the windmill."
   ]
  },
  {
   "cell_type": "code",
   "execution_count": null,
   "metadata": {},
   "outputs": [],
   "source": [
    "%%time\n",
    "con.execute('''\n",
    "SELECT bars.name, windmills.id, roads.name, roads.id, (ST_Distance(bars.geom, windmills.geom) + ST_Distance(bars.geom, roads.geom)) as dist\n",
    "FROM bars, windmills, roads, states\n",
    "WHERE bars.name = 'Brick House Tavern' and windmills.id = 3010715 and roads.name = 'Pena Blvd' and states.name = 'CO'\n",
    "LIMIT 10;\n",
    "''').fetchall()"
   ]
  },
  {
   "cell_type": "markdown",
   "metadata": {},
   "source": [
    "This is an older, slower solution that relies on the query optimizer. It takes 10+ minutes even with the query encoding some constraints such as the distance to the windmill and the bar. This is much faster in postgres where this solution finished within 5 seconds."
   ]
  }
 ],
 "metadata": {
  "kernelspec": {
   "display_name": "Python 3 (ipykernel)",
   "language": "python",
   "name": "python3"
  },
  "language_info": {
   "codemirror_mode": {
    "name": "ipython",
    "version": 3
   },
   "file_extension": ".py",
   "mimetype": "text/x-python",
   "name": "python",
   "nbconvert_exporter": "python",
   "pygments_lexer": "ipython3",
   "version": "3.9.6"
  }
 },
 "nbformat": 4,
 "nbformat_minor": 4
}
